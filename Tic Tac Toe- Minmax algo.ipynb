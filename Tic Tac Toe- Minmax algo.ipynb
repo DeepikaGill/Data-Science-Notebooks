{
    "nbformat_minor": 1, 
    "cells": [
        {
            "execution_count": 2, 
            "cell_type": "code", 
            "metadata": {}, 
            "outputs": [], 
            "source": "#functions for board\ndef print_board(board):\n    print(\"|-------------|\")\n    print(\"| Tic Tac Toe |\")\n    print(\"|-------------|\")\n    print(\"|             |\")\n    print(\"|    \" + board[0][0] + \" \" + board[0][1] + \" \" + board[0][2] + \"    |\")\n    print(\"|    \" + board[1][0] + \" \" + board[1][1] + \" \" + board[1][2] + \"    |\")\n    print(\"|    \" + board[2][0] + \" \" + board[2][1] + \" \" + board[2][2] + \"    |\")\n    print(\"|             |\")\n    print(\"|-------------|\")\n    print()\n\n\ndef select_space(board, move, turn):\n    if move not in range(1,10):\n        return False\n    row = int((move-1)/3)\n    col = (move-1)%3\n    if board[row][col] != \"X\" and board[row][col] != \"O\":\n        board[row][col] = turn\n        return True\n    else:\n        return False\n\ndef available_moves(board):\n    moves = []\n    for row in board:\n        for col in row:\n            if col != \"X\" and col != \"O\":\n                moves.append(int(col))\n    return moves\n\ndef has_won(board, player):\n    for row in board:\n        if row.count(player) == 3:\n            return True\n    for i in range(3):\n        if board[0][i] == player and board[1][i] == player and board[2][i] == player:\n            return True\n    if board[0][0] == player and board[1][1] == player and board[2][2] == player:\n        return True\n    if board[0][2] == player and board[1][1] == player and board[2][0] == player:\n        return True\n    return False"
        }, 
        {
            "execution_count": 3, 
            "cell_type": "code", 
            "metadata": {}, 
            "outputs": [
                {
                    "output_type": "stream", 
                    "name": "stdout", 
                    "text": "|-------------|\n| Tic Tac Toe |\n|-------------|\n|             |\n|    1 2 X    |\n|    4 5 6    |\n|    7 8 9    |\n|             |\n|-------------|\n\n|-------------|\n| Tic Tac Toe |\n|-------------|\n|             |\n|    X X X    |\n|    4 O 6    |\n|    7 O 9    |\n|             |\n|-------------|\n\n[4, 6, 7, 9]\nTrue\nFalse\n"
                }
            ], 
            "source": "#testing above funcs\nmy_board = [\n    [\"1\", \"2\", \"X\"],\n    [\"4\", \"5\", \"6\"],\n    [\"7\", \"8\", \"9\"]\n]\nprint_board(my_board)\nselect_space(my_board,5,\"O\")\nselect_space(my_board,2,\"X\")\nselect_space(my_board,8,\"O\")\nselect_space(my_board,1,\"X\")\nprint_board(my_board)\nprint(available_moves(my_board))\nprint(has_won(my_board,\"X\"))\nprint(has_won(my_board,\"O\"))"
        }, 
        {
            "source": "#### Detecting Tic-Tac-Toe Leaves\n**An essential step in the minimax function is evaluating the strength of a leaf.** \n- One potential evaluation function: a leaf where player \"X\" wins evaluates to a 1, a leaf where player \"O\" wins evaluates to a -1, and a leaf that is a tie evaluates to 0\n- to detect whether a board is a leaf \u2014 need to know if the game is over.\n", 
            "cell_type": "markdown", 
            "metadata": {}
        }, 
        {
            "execution_count": 4, 
            "cell_type": "code", 
            "metadata": {}, 
            "outputs": [], 
            "source": "start_board = [\n    [\"1\", \"2\", \"3\"],\n    [\"4\", \"5\", \"6\"],\n    [\"7\", \"8\", \"9\"]\n]\n\nx_won = [\n    [\"X\", \"O\", \"3\"],\n    [\"4\", \"X\", \"O\"],\n    [\"7\", \"8\", \"X\"]\n]\n\no_won = [\n    [\"O\", \"X\", \"3\"],\n    [\"O\", \"X\", \"X\"],\n    [\"O\", \"8\", \"9\"]\n]\n\ntie = [\n    [\"X\", \"X\", \"O\"],\n    [\"O\", \"O\", \"X\"],\n    [\"X\", \"O\", \"X\"]\n]"
        }, 
        {
            "execution_count": 5, 
            "cell_type": "code", 
            "metadata": {}, 
            "outputs": [
                {
                    "output_type": "stream", 
                    "name": "stdout", 
                    "text": "False\nTrue\nTrue\nTrue\n"
                }
            ], 
            "source": "def game_is_over(board ):\n  if len(available_moves(board))==0 or has_won(board, \"X\") or has_won(board, \"O\"):\n    return True\n  else: return False\n\nprint(game_is_over(start_board))\nprint(game_is_over(x_won))\nprint(game_is_over(o_won))\nprint(game_is_over(tie)) "
        }, 
        {
            "execution_count": 6, 
            "cell_type": "code", 
            "metadata": {}, 
            "outputs": [
                {
                    "output_type": "stream", 
                    "name": "stdout", 
                    "text": "1\n-1\n0\n"
                }
            ], 
            "source": "def evaluate_board(board):\n  if has_won(board, \"X\"):\n    return 1\n  elif has_won(board, \"O\"):\n    return -1\n  elif len(available_moves(board))==0:\n    return 0\n  \nif game_is_over(start_board):\n  print(evaluate_board(start_board))\nif game_is_over(x_won):\n  print(evaluate_board(x_won))\nif game_is_over(o_won):\n  print(evaluate_board(o_won))\nif game_is_over(tie):\n  print(evaluate_board(tie))"
        }, 
        {
            "source": "#### Evaluating Leaves\nLet's imagine a situation where you're playing as the \"X\" player in a game of Tic-Tac-Toe and the game is almost over. The game board isn't a leaf but it's close. You have three possible moves. All three moves will immediately end the game \u2014 each of those future boards will be leaves.\n\nLet's say picking move A will result in you winning and moves B and C will each result in a tie. You'd clearly pick move A.\n\nBy picking move A, you've picked the move that led to the board with the highest value. You were picking between a 1 (an \"X\" win) or two 0s (the moves that would lead to a tie). Because you picked the move with the highest value, we can say that \"X\" is the maximizing player.\n\nLet's say you were playing a the \"O\" player under the same circumstances. Picking move A would somehow immediately lead to \"X\" winning, while moves B and C would lead to a tie. You'd pick one of the boards that would lead to a tie. \"O\" is the minimizing player. You would love to pick a board with the value of -1 (an \"O\" win), but unfortunately, that board doesn't exist. You'll have to settle with picking a board with the value of 0. At least you prevent \"X\" from winning.", 
            "cell_type": "markdown", 
            "metadata": {}
        }, 
        {
            "source": "**Copying Boards**\nOne of the central ideas behind the minimax algorithm is the idea of exploring future hypothetical board states.\n- Don't want to actually make move on the board.Make a copy of the board and make the move on that one.", 
            "cell_type": "markdown", 
            "metadata": {}
        }, 
        {
            "execution_count": 7, 
            "cell_type": "code", 
            "metadata": {}, 
            "outputs": [], 
            "source": "from copy import deepcopy\nmy_board = [\n    [\"1\", \"2\", \"X\"],\n    [\"4\", \"5\", \"6\"],\n    [\"7\", \"8\", \"9\"]\n]\nnew_board  = deepcopy(my_board)"
        }, 
        {
            "source": "The result of **Minimax** function will be the \"value\" of the best possible move\n- returns a 1, that means a move exists that guarantees that \"X\" will win\n- returns a -1, that means that there's nothing that \"X\" can do to prevent \"O\" from winning. \n- returns a 0, then the best \"X\" can do is force a tie (assuming \"O\" doesn't make a mistake).", 
            "cell_type": "markdown", 
            "metadata": {}
        }, 
        {
            "execution_count": 8, 
            "cell_type": "code", 
            "metadata": {}, 
            "outputs": [], 
            "source": "def minimax(input_board, is_maximizing):\n  # Base case - the game is over, so we return the value of the board\n  if game_is_over(input_board):\n    return [evaluate_board(input_board), \"\"]\n  #--------------------if the node isn't a leaf--------------------#\n  best_move = \"\"\n  if is_maximizing == True:\n    best_value = -float(\"Inf\")\n    symbol = \"X\"\n  else:\n    best_value = float(\"Inf\")\n    symbol = \"O\"\n #loop through all of the possible moves of input_board and make the move!\n  for move in available_moves(input_board):\n    new_board = deepcopy(input_board)\n    select_space(new_board, move, symbol)\n    hypothetical_value = minimax(new_board, not is_maximizing)[0]\n  #know whether the value of that board is better than our current best_value and note best move\n    if is_maximizing == True and hypothetical_value > best_value:\n      best_value = hypothetical_value\n      best_move = move\n    if is_maximizing == False and hypothetical_value < best_value:\n      best_value = hypothetical_value\n      best_move = move\n  return [best_value, best_move]"
        }, 
        {
            "source": "**Play a Game**", 
            "cell_type": "markdown", 
            "metadata": {}
        }, 
        {
            "execution_count": 9, 
            "cell_type": "code", 
            "metadata": {}, 
            "outputs": [
                {
                    "output_type": "stream", 
                    "name": "stdout", 
                    "text": "|-------------|\n| Tic Tac Toe |\n|-------------|\n|             |\n|    X 2 3    |\n|    4 5 6    |\n|    7 8 9    |\n|             |\n|-------------|\n\n|-------------|\n| Tic Tac Toe |\n|-------------|\n|             |\n|    X 2 3    |\n|    4 O 6    |\n|    7 8 9    |\n|             |\n|-------------|\n\n|-------------|\n| Tic Tac Toe |\n|-------------|\n|             |\n|    X X 3    |\n|    4 O 6    |\n|    7 8 9    |\n|             |\n|-------------|\n\n|-------------|\n| Tic Tac Toe |\n|-------------|\n|             |\n|    X X O    |\n|    4 O 6    |\n|    7 8 9    |\n|             |\n|-------------|\n\n|-------------|\n| Tic Tac Toe |\n|-------------|\n|             |\n|    X X O    |\n|    4 O 6    |\n|    X 8 9    |\n|             |\n|-------------|\n\n|-------------|\n| Tic Tac Toe |\n|-------------|\n|             |\n|    X X O    |\n|    O O 6    |\n|    X 8 9    |\n|             |\n|-------------|\n\n|-------------|\n| Tic Tac Toe |\n|-------------|\n|             |\n|    X X O    |\n|    O O X    |\n|    X 8 9    |\n|             |\n|-------------|\n\n|-------------|\n| Tic Tac Toe |\n|-------------|\n|             |\n|    X X O    |\n|    O O X    |\n|    X O 9    |\n|             |\n|-------------|\n\n|-------------|\n| Tic Tac Toe |\n|-------------|\n|             |\n|    X X O    |\n|    O O X    |\n|    X O X    |\n|             |\n|-------------|\n\n"
                }
            ], 
            "source": "my_board = [\n    [\"1\", \"2\", \"3\"],\n    [\"4\", \"5\", \"6\"],\n    [\"7\", \"8\", \"9\"]\n]\n\nwhile not game_is_over(my_board):\n  select_space(my_board, minimax(my_board, True)[1], \"X\")\n  print_board(my_board)\n  if not game_is_over(my_board):\n    select_space(my_board, minimax(my_board, False)[1], \"O\")\n    print_board(my_board)  "
        }, 
        {
            "execution_count": null, 
            "cell_type": "code", 
            "metadata": {}, 
            "outputs": [], 
            "source": ""
        }
    ], 
    "metadata": {
        "kernelspec": {
            "display_name": "Python 3.5", 
            "name": "python3", 
            "language": "python"
        }, 
        "language_info": {
            "mimetype": "text/x-python", 
            "nbconvert_exporter": "python", 
            "version": "3.5.5", 
            "name": "python", 
            "file_extension": ".py", 
            "pygments_lexer": "ipython3", 
            "codemirror_mode": {
                "version": 3, 
                "name": "ipython"
            }
        }
    }, 
    "nbformat": 4
}